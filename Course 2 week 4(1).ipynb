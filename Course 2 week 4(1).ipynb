{
 "cells": [
  {
   "cell_type": "markdown",
   "id": "d8658f81-5338-4fdc-9efe-61b5271513d3",
   "metadata": {
    "tags": []
   },
   "source": [
    "# My Jupyter Notebook on IBM Watson Studio"
   ]
  },
  {
   "cell_type": "markdown",
   "id": "d3f67c8a-f87e-4444-b1ac-c90b348e399f",
   "metadata": {},
   "source": [
    "**Colton Mccain**"
   ]
  },
  {
   "cell_type": "markdown",
   "id": "22d863c9-92f8-4846-af87-4e8c34d117e6",
   "metadata": {},
   "source": [
    "*I am interested in data science because data provides a new view on the world. It is a story that can not be communicated directly by humans, and needs the numbers to come alive.*"
   ]
  },
  {
   "cell_type": "markdown",
   "id": "4a972ffd-4546-47e5-8ba9-352b47a45184",
   "metadata": {},
   "source": [
    "### The code in cell 5 will print \"Hi\""
   ]
  },
  {
   "cell_type": "code",
   "execution_count": 4,
   "id": "8fb76897-656d-4c72-9780-1e1d739a3a5f",
   "metadata": {},
   "outputs": [
    {
     "name": "stdout",
     "output_type": "stream",
     "text": [
      "Hi\n"
     ]
    }
   ],
   "source": [
    "print(\"Hi\")"
   ]
  },
  {
   "cell_type": "markdown",
   "id": "da763774-6558-47b7-a35c-07d8087ae295",
   "metadata": {},
   "source": [
    "- step one, bullet\n",
    "    - step two, list\n",
    "\n",
    "1. numbered\n",
    "1. list\n",
    "\n",
    "__[Google.com](http://google.com)__"
   ]
  }
 ],
 "metadata": {
  "kernelspec": {
   "display_name": "Python",
   "language": "python",
   "name": "conda-env-python-py"
  },
  "language_info": {
   "codemirror_mode": {
    "name": "ipython",
    "version": 3
   },
   "file_extension": ".py",
   "mimetype": "text/x-python",
   "name": "python",
   "nbconvert_exporter": "python",
   "pygments_lexer": "ipython3",
   "version": "3.7.12"
  }
 },
 "nbformat": 4,
 "nbformat_minor": 5
}
